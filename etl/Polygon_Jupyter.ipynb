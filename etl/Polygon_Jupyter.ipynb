{
 "cells": [
  {
   "cell_type": "code",
   "execution_count": 1,
   "id": "initial_id",
   "metadata": {
    "collapsed": true,
    "ExecuteTime": {
     "end_time": "2024-05-06T21:15:42.668118Z",
     "start_time": "2024-05-06T21:15:41.063302Z"
    }
   },
   "outputs": [],
   "source": [
    "from polygon import RESTClient\n",
    "import pandas as pd\n",
    "import numpy as np\n",
    "from datetime import datetime, timedelta\n",
    "import boto3\n",
    "from io import StringIO, BytesIO\n",
    "import os\n",
    "from dotenv import load_dotenv"
   ]
  },
  {
   "cell_type": "markdown",
   "source": [],
   "metadata": {
    "collapsed": false
   },
   "id": "f1757505d578063c"
  },
  {
   "cell_type": "code",
   "execution_count": null,
   "outputs": [],
   "source": [
    "load_dotenv('protected.env')\n",
    "POLYGON_API_KEY = os.environ.get('POLYGON_API_KEY')"
   ],
   "metadata": {
    "collapsed": false
   },
   "id": "9926d9500ca9d4ab"
  },
  {
   "cell_type": "markdown",
   "source": [
    "## Getting/Updating/Exporting Meta File"
   ],
   "metadata": {
    "collapsed": false
   },
   "id": "c5ba13c43a9fed38"
  },
  {
   "cell_type": "code",
   "execution_count": 2,
   "outputs": [],
   "source": [
    "def return_date_list(bucket, arg_date, src_format, meta_key):\n",
    "    min_date = datetime.strptime(arg_date, src_format).date() - timedelta(days=1)\n",
    "    today = datetime.today().date()\n",
    "    try:\n",
    "        df_meta = read_csv_to_df(bucket, meta_key)\n",
    "        dates = [(min_date + timedelta(days=x)) for x in range(0, (today-min_date).days + 1)]\n",
    "        src_dates = set(pd.to_datetime(df_meta['source_date']).dt.date)\n",
    "        dates_missing = set(dates[1:]) - src_dates\n",
    "        if dates_missing:\n",
    "            min_date = min(set(dates[1:]) - src_dates) - timedelta(days=1)\n",
    "            return_dates = [date.strftime(src_format) for date in dates if date >= min_date]\n",
    "            return_min_date = arg_date\n",
    "        else:\n",
    "            return_dates = []\n",
    "            return_min_date = datetime(2200, 1, 1).date()\n",
    "    except bucket.session.client('s3').execptions.NoSuchKey:\n",
    "        return_dates = [(min_date + timedelta(days=x)).strftime(src_format) for x in range(0, (today-min_date).days + 1)]\n",
    "        return_min_date = (min_date + timedelta(days=1)).strftime(src_format)\n",
    "    return return_min_date, return_dates"
   ],
   "metadata": {
    "collapsed": false,
    "ExecuteTime": {
     "end_time": "2024-05-06T21:15:42.671443Z",
     "start_time": "2024-05-06T21:15:42.669498Z"
    }
   },
   "id": "1f2b3128655f9508"
  },
  {
   "cell_type": "code",
   "execution_count": 3,
   "outputs": [],
   "source": [
    "def read_csv_to_df(bucket, key, decoding = 'utf-8', sep = ','):\n",
    "    csv_obj = bucket.Object(key=key).get().get('Body').read().decode(decoding)\n",
    "    data = StringIO(csv_obj)\n",
    "    df = pd.read_csv(data, delimiter=sep)\n",
    "    return df"
   ],
   "metadata": {
    "collapsed": false,
    "ExecuteTime": {
     "end_time": "2024-05-06T21:15:42.674198Z",
     "start_time": "2024-05-06T21:15:42.672506Z"
    }
   },
   "id": "b699b7c69e86dcbc"
  },
  {
   "cell_type": "code",
   "execution_count": 4,
   "outputs": [],
   "source": [
    "def df_to_s3_csv(df, bucket, key):\n",
    "    out_buffer = StringIO()\n",
    "    df.to_csv(out_buffer, index=False)\n",
    "    bucket.put_object(Body=out_buffer.getvalue(), Key=key)\n",
    "    return True"
   ],
   "metadata": {
    "collapsed": false,
    "ExecuteTime": {
     "end_time": "2024-05-06T21:15:42.676624Z",
     "start_time": "2024-05-06T21:15:42.674938Z"
    }
   },
   "id": "9c7a26794278fcd2"
  },
  {
   "cell_type": "code",
   "execution_count": 5,
   "outputs": [],
   "source": [
    "def update_meta_file(bucket, meta_key, date_list):\n",
    "    df_new = pd.DataFrame(columns=['source_date', 'datetime_of_processing'])\n",
    "    df_new['source_date'] = date_list\n",
    "    df_new['datetime_of_processing'] = datetime.today().strftime('%Y-%m-%d %H:%M:%S')\n",
    "    df_old = read_csv_to_df(bucket, meta_key)\n",
    "    df_all = pd.concat([df_old, df_new])\n",
    "    df_to_s3_csv(df_all, bucket, meta_key)\n",
    "    return True"
   ],
   "metadata": {
    "collapsed": false,
    "ExecuteTime": {
     "end_time": "2024-05-06T21:15:42.680337Z",
     "start_time": "2024-05-06T21:15:42.678491Z"
    }
   },
   "id": "dd90f7ee3e6a4f91"
  },
  {
   "cell_type": "markdown",
   "source": [
    "## Extract"
   ],
   "metadata": {
    "collapsed": false
   },
   "id": "fa5dc8af4d915e0b"
  },
  {
   "cell_type": "code",
   "execution_count": 6,
   "outputs": [],
   "source": [
    "def get_stocks(tickers, start_date, end_date, client, timespan = 'hour'):\n",
    "    stock_objects = {}\n",
    "    for stock in tickers:\n",
    "        stock_objects[stock] = client.list_aggs(ticker=stock, multiplier=4, timespan=timespan,\n",
    "                                                        from_=start_date, to=end_date, limit=50000)\n",
    "    return stock_objects"
   ],
   "metadata": {
    "collapsed": false,
    "ExecuteTime": {
     "end_time": "2024-05-06T21:15:42.682624Z",
     "start_time": "2024-05-06T21:15:42.681092Z"
    }
   },
   "id": "fc7d176db382d328"
  },
  {
   "cell_type": "code",
   "execution_count": 7,
   "outputs": [],
   "source": [
    "def dict_to_df(dict):\n",
    "    dataframes = []\n",
    "    for ticker, data in dict.items():\n",
    "        df = pd.DataFrame(data).assign(ticker=ticker)\n",
    "        dataframes.append(df)\n",
    "    return pd.concat(dataframes, ignore_index=True)"
   ],
   "metadata": {
    "collapsed": false,
    "ExecuteTime": {
     "end_time": "2024-05-06T21:15:42.687529Z",
     "start_time": "2024-05-06T21:15:42.683529Z"
    }
   },
   "id": "ee402a94548d395b"
  },
  {
   "cell_type": "code",
   "execution_count": 8,
   "outputs": [],
   "source": [
    "def extract(tickers, client, date_list):\n",
    "    if date_list:\n",
    "        dictStocks = get_stocks(tickers, date_list[0], date_list[-1], client)\n",
    "        df = dict_to_df(dictStocks)\n",
    "        return df"
   ],
   "metadata": {
    "collapsed": false,
    "ExecuteTime": {
     "end_time": "2024-05-06T21:15:42.690144Z",
     "start_time": "2024-05-06T21:15:42.686356Z"
    }
   },
   "id": "6b1018e6c34938e1"
  },
  {
   "cell_type": "markdown",
   "source": [
    "## Transform"
   ],
   "metadata": {
    "collapsed": false
   },
   "id": "62cb31087e742ac0"
  },
  {
   "cell_type": "code",
   "execution_count": 9,
   "outputs": [],
   "source": [
    "def timestamp_to_datetime(df):\n",
    "    if 'timestamp' in df.columns:\n",
    "        df['date_time'] = pd.to_datetime(df['timestamp'], unit='ms')\n",
    "        return df\n",
    "    else: \n",
    "        print('No timestamp column')"
   ],
   "metadata": {
    "collapsed": false,
    "ExecuteTime": {
     "end_time": "2024-05-06T21:15:42.694861Z",
     "start_time": "2024-05-06T21:15:42.689472Z"
    }
   },
   "id": "ff67dea9a12f7d84"
  },
  {
   "cell_type": "code",
   "execution_count": 10,
   "outputs": [],
   "source": [
    "def drop_columns(df, columns):\n",
    "    col = columns\n",
    "    return df[col]"
   ],
   "metadata": {
    "collapsed": false,
    "ExecuteTime": {
     "end_time": "2024-05-06T21:15:42.694903Z",
     "start_time": "2024-05-06T21:15:42.691527Z"
    }
   },
   "id": "15ba86f37ce2bdcd"
  },
  {
   "cell_type": "code",
   "execution_count": 11,
   "outputs": [],
   "source": [
    "def clean_df(df):\n",
    "    df = df.dropna()\n",
    "    df = df.drop_duplicates()\n",
    "    df['date_time'] = pd.to_datetime(df['date_time'])\n",
    "    df = df.astype({'open': 'float', 'close': 'float', 'high': 'float', 'low': 'float', 'transactions': 'int'})\n",
    "    return df"
   ],
   "metadata": {
    "collapsed": false,
    "ExecuteTime": {
     "end_time": "2024-05-06T21:15:42.695103Z",
     "start_time": "2024-05-06T21:15:42.693795Z"
    }
   },
   "id": "13dc45dbebab5dc8"
  },
  {
   "cell_type": "code",
   "execution_count": 12,
   "outputs": [],
   "source": [
    "def add_col_returns(df):\n",
    "    df['periodic_return'] = df.groupby('ticker')['close'].pct_change()*100\n",
    "    df.replace([np.inf, -np.inf], np.nan, inplace=True)\n",
    "    df.dropna(subset=['periodic_return'], inplace=True)\n",
    "    return df"
   ],
   "metadata": {
    "collapsed": false,
    "ExecuteTime": {
     "end_time": "2024-05-06T21:15:42.698935Z",
     "start_time": "2024-05-06T21:15:42.696066Z"
    }
   },
   "id": "3b820d1354129a00"
  },
  {
   "cell_type": "code",
   "execution_count": 13,
   "outputs": [],
   "source": [
    "def make_weekly_aggregated(df):\n",
    "    df.set_index('date_time', inplace=True)\n",
    "    weekly_aggregated = df.groupby('ticker').resample('W-MON').agg({\n",
    "        'open': 'first',\n",
    "        'close': 'last',\n",
    "        'high': 'max',\n",
    "        'low': 'min',\n",
    "        'transactions': 'sum',\n",
    "        'periodic_return': 'std'  # This calculates the standard deviation of the 4-hourly returns for weekly volatility\n",
    "    }).rename(columns={'periodic_return': 'pct_volatility'}).reset_index()\n",
    "    return weekly_aggregated"
   ],
   "metadata": {
    "collapsed": false,
    "ExecuteTime": {
     "end_time": "2024-05-06T21:15:42.701808Z",
     "start_time": "2024-05-06T21:15:42.699251Z"
    }
   },
   "id": "27e29807a531866c"
  },
  {
   "cell_type": "code",
   "execution_count": 14,
   "outputs": [],
   "source": [
    "def add_col_change(weekly_aggregated):\n",
    "    weekly_aggregated['weekly_pct_change'] = weekly_aggregated.groupby('ticker')['close'].pct_change()*100\n",
    "    weekly_aggregated['weekly_pct_change'].fillna(0, inplace=True)\n",
    "    return weekly_aggregated"
   ],
   "metadata": {
    "collapsed": false,
    "ExecuteTime": {
     "end_time": "2024-05-06T21:15:42.705775Z",
     "start_time": "2024-05-06T21:15:42.703899Z"
    }
   },
   "id": "85c76ea73aa7274c"
  },
  {
   "cell_type": "code",
   "execution_count": 15,
   "outputs": [],
   "source": [
    "def transform(df, columns):\n",
    "    dt_cng_df = timestamp_to_datetime(df)\n",
    "    dp_col_df = drop_columns(dt_cng_df, columns)\n",
    "    cleaned_df = clean_df(dp_col_df)\n",
    "    rtn_add_df = add_col_returns(cleaned_df)\n",
    "    weekly_aggregated = make_weekly_aggregated(rtn_add_df)\n",
    "    return weekly_aggregated\n",
    "    "
   ],
   "metadata": {
    "collapsed": false,
    "ExecuteTime": {
     "end_time": "2024-05-06T21:15:42.708451Z",
     "start_time": "2024-05-06T21:15:42.706473Z"
    }
   },
   "id": "70c19b97c4f06c0"
  },
  {
   "cell_type": "markdown",
   "source": [
    "## Load"
   ],
   "metadata": {
    "collapsed": false
   },
   "id": "1135107734d2a0c6"
  },
  {
   "cell_type": "code",
   "execution_count": 16,
   "outputs": [],
   "source": [
    "def df_to_s3(weekly_aggregated, bucket_target, key):\n",
    "    out_buffer = BytesIO()\n",
    "    weekly_aggregated.to_parquet(out_buffer, index=False)\n",
    "    bucket_target.put_object(Body=out_buffer.getvalue(), Key=key)\n",
    "    return True"
   ],
   "metadata": {
    "collapsed": false,
    "ExecuteTime": {
     "end_time": "2024-05-06T21:15:42.710950Z",
     "start_time": "2024-05-06T21:15:42.709071Z"
    }
   },
   "id": "f6ae9d95557bf14e"
  },
  {
   "cell_type": "code",
   "execution_count": 17,
   "outputs": [],
   "source": [
    "def load(df, bucket, trg_key, trg_format, meta_key, date_list, src_format):\n",
    "    key = trg_key + datetime.today().strftime(src_format) + trg_format\n",
    "    df_to_s3(df, bucket, key)\n",
    "    update_meta_file(bucket, meta_key, date_list)"
   ],
   "metadata": {
    "collapsed": false,
    "ExecuteTime": {
     "end_time": "2024-05-06T21:15:42.713428Z",
     "start_time": "2024-05-06T21:15:42.711242Z"
    }
   },
   "id": "a1d87afe5f6eb524"
  },
  {
   "cell_type": "code",
   "execution_count": 18,
   "outputs": [],
   "source": [
    "def run_etl(tickers, client, trg_bucket, date_list, columns, arg_date, trg_key, src_format, trg_format, meta_key):\n",
    "    raw_df = extract(tickers, client, date_list)\n",
    "    if raw_df:\n",
    "        cleaned_df = transform(raw_df, columns)\n",
    "        extract_date_list = [date for date in date_list if date >= arg_date]\n",
    "        load(cleaned_df, trg_bucket, trg_key, trg_format, meta_key, extract_date_list, src_format)"
   ],
   "metadata": {
    "collapsed": false,
    "ExecuteTime": {
     "end_time": "2024-05-06T21:15:42.719840Z",
     "start_time": "2024-05-06T21:15:42.714045Z"
    }
   },
   "id": "8e7835fa72be910e"
  },
  {
   "cell_type": "code",
   "execution_count": 19,
   "outputs": [],
   "source": [
    "def main():\n",
    "    tickers = ['AAPL', 'TSLA']\n",
    "    client = RESTClient(POLYGON_API_KEY)\n",
    "    arg_date = '2024-04-14'\n",
    "    src_format = \"%Y-%m-%d\"\n",
    "    trg_format = '.parquet'\n",
    "    trg_key = 'polygon_weekly_report_'\n",
    "    columns = ['ticker', 'open', 'close', 'low', 'high', 'transactions', 'date_time']\n",
    "    \n",
    "    \n",
    "    # Init\n",
    "    s3 = boto3.resource('s3')\n",
    "    meta_key = 'meta_file.csv'\n",
    "    bucket_target = s3.Bucket('adaptivesharks-test-etl-target')\n",
    "    \n",
    "    # Run Application\n",
    "    extract_date, date_list = return_date_list(bucket_target, arg_date, src_format, meta_key)\n",
    "    run_etl(tickers, client, bucket_target, date_list, columns, extract_date, trg_key, src_format, trg_format, meta_key)\n",
    "    "
   ],
   "metadata": {
    "collapsed": false,
    "ExecuteTime": {
     "end_time": "2024-05-06T21:15:42.720007Z",
     "start_time": "2024-05-06T21:15:42.717276Z"
    }
   },
   "id": "afea1774953adb43"
  },
  {
   "cell_type": "code",
   "execution_count": 20,
   "outputs": [
    {
     "ename": "ValueError",
     "evalue": "The truth value of a DataFrame is ambiguous. Use a.empty, a.bool(), a.item(), a.any() or a.all().",
     "output_type": "error",
     "traceback": [
      "\u001B[0;31m---------------------------------------------------------------------------\u001B[0m",
      "\u001B[0;31mValueError\u001B[0m                                Traceback (most recent call last)",
      "\u001B[0;32m/var/folders/jn/ts9j2knj3k7_zc7zd6rz3p240000gn/T/ipykernel_90077/3459984469.py\u001B[0m in \u001B[0;36m?\u001B[0;34m()\u001B[0m\n\u001B[0;32m----> 2\u001B[0;31m \u001B[0;31m# Run\u001B[0m\u001B[0;34m\u001B[0m\u001B[0;34m\u001B[0m\u001B[0;34m\u001B[0m\u001B[0m\n\u001B[0m\u001B[1;32m      3\u001B[0m \u001B[0mmain\u001B[0m\u001B[0;34m(\u001B[0m\u001B[0;34m)\u001B[0m\u001B[0;34m\u001B[0m\u001B[0;34m\u001B[0m\u001B[0m\n",
      "\u001B[0;32m/var/folders/jn/ts9j2knj3k7_zc7zd6rz3p240000gn/T/ipykernel_90077/584771309.py\u001B[0m in \u001B[0;36m?\u001B[0;34m()\u001B[0m\n\u001B[1;32m     15\u001B[0m     \u001B[0mbucket_target\u001B[0m \u001B[0;34m=\u001B[0m \u001B[0ms3\u001B[0m\u001B[0;34m.\u001B[0m\u001B[0mBucket\u001B[0m\u001B[0;34m(\u001B[0m\u001B[0;34m'adaptivesharks-test-etl-target'\u001B[0m\u001B[0;34m)\u001B[0m\u001B[0;34m\u001B[0m\u001B[0;34m\u001B[0m\u001B[0m\n\u001B[1;32m     16\u001B[0m \u001B[0;34m\u001B[0m\u001B[0m\n\u001B[1;32m     17\u001B[0m     \u001B[0;31m# Run Application\u001B[0m\u001B[0;34m\u001B[0m\u001B[0;34m\u001B[0m\u001B[0;34m\u001B[0m\u001B[0m\n\u001B[1;32m     18\u001B[0m     \u001B[0mextract_date\u001B[0m\u001B[0;34m,\u001B[0m \u001B[0mdate_list\u001B[0m \u001B[0;34m=\u001B[0m \u001B[0mreturn_date_list\u001B[0m\u001B[0;34m(\u001B[0m\u001B[0mbucket_target\u001B[0m\u001B[0;34m,\u001B[0m \u001B[0marg_date\u001B[0m\u001B[0;34m,\u001B[0m \u001B[0msrc_format\u001B[0m\u001B[0;34m,\u001B[0m \u001B[0mmeta_key\u001B[0m\u001B[0;34m)\u001B[0m\u001B[0;34m\u001B[0m\u001B[0;34m\u001B[0m\u001B[0m\n\u001B[0;32m---> 19\u001B[0;31m     \u001B[0mrun_etl\u001B[0m\u001B[0;34m(\u001B[0m\u001B[0mtickers\u001B[0m\u001B[0;34m,\u001B[0m \u001B[0mclient\u001B[0m\u001B[0;34m,\u001B[0m \u001B[0mbucket_target\u001B[0m\u001B[0;34m,\u001B[0m \u001B[0mdate_list\u001B[0m\u001B[0;34m,\u001B[0m \u001B[0mcolumns\u001B[0m\u001B[0;34m,\u001B[0m \u001B[0mextract_date\u001B[0m\u001B[0;34m,\u001B[0m \u001B[0mtrg_key\u001B[0m\u001B[0;34m,\u001B[0m \u001B[0msrc_format\u001B[0m\u001B[0;34m,\u001B[0m \u001B[0mtrg_format\u001B[0m\u001B[0;34m,\u001B[0m \u001B[0mmeta_key\u001B[0m\u001B[0;34m)\u001B[0m\u001B[0;34m\u001B[0m\u001B[0;34m\u001B[0m\u001B[0m\n\u001B[0m",
      "\u001B[0;32m/var/folders/jn/ts9j2knj3k7_zc7zd6rz3p240000gn/T/ipykernel_90077/3053736101.py\u001B[0m in \u001B[0;36m?\u001B[0;34m(tickers, client, trg_bucket, date_list, columns, arg_date, trg_key, src_format, trg_format, meta_key)\u001B[0m\n\u001B[1;32m      1\u001B[0m \u001B[0;32mdef\u001B[0m \u001B[0mrun_etl\u001B[0m\u001B[0;34m(\u001B[0m\u001B[0mtickers\u001B[0m\u001B[0;34m,\u001B[0m \u001B[0mclient\u001B[0m\u001B[0;34m,\u001B[0m \u001B[0mtrg_bucket\u001B[0m\u001B[0;34m,\u001B[0m \u001B[0mdate_list\u001B[0m\u001B[0;34m,\u001B[0m \u001B[0mcolumns\u001B[0m\u001B[0;34m,\u001B[0m \u001B[0marg_date\u001B[0m\u001B[0;34m,\u001B[0m \u001B[0mtrg_key\u001B[0m\u001B[0;34m,\u001B[0m \u001B[0msrc_format\u001B[0m\u001B[0;34m,\u001B[0m \u001B[0mtrg_format\u001B[0m\u001B[0;34m,\u001B[0m \u001B[0mmeta_key\u001B[0m\u001B[0;34m)\u001B[0m\u001B[0;34m:\u001B[0m\u001B[0;34m\u001B[0m\u001B[0;34m\u001B[0m\u001B[0m\n\u001B[1;32m      2\u001B[0m     \u001B[0mraw_df\u001B[0m \u001B[0;34m=\u001B[0m \u001B[0mextract\u001B[0m\u001B[0;34m(\u001B[0m\u001B[0mtickers\u001B[0m\u001B[0;34m,\u001B[0m \u001B[0mclient\u001B[0m\u001B[0;34m,\u001B[0m \u001B[0mdate_list\u001B[0m\u001B[0;34m)\u001B[0m\u001B[0;34m\u001B[0m\u001B[0;34m\u001B[0m\u001B[0m\n\u001B[0;32m----> 3\u001B[0;31m     \u001B[0;32mif\u001B[0m \u001B[0mraw_df\u001B[0m\u001B[0;34m:\u001B[0m\u001B[0;34m\u001B[0m\u001B[0;34m\u001B[0m\u001B[0m\n\u001B[0m\u001B[1;32m      4\u001B[0m         \u001B[0mcleaned_df\u001B[0m \u001B[0;34m=\u001B[0m \u001B[0mtransform\u001B[0m\u001B[0;34m(\u001B[0m\u001B[0mraw_df\u001B[0m\u001B[0;34m,\u001B[0m \u001B[0mcolumns\u001B[0m\u001B[0;34m)\u001B[0m\u001B[0;34m\u001B[0m\u001B[0;34m\u001B[0m\u001B[0m\n\u001B[1;32m      5\u001B[0m         \u001B[0mextract_date_list\u001B[0m \u001B[0;34m=\u001B[0m \u001B[0;34m[\u001B[0m\u001B[0mdate\u001B[0m \u001B[0;32mfor\u001B[0m \u001B[0mdate\u001B[0m \u001B[0;32min\u001B[0m \u001B[0mdate_list\u001B[0m \u001B[0;32mif\u001B[0m \u001B[0mdate\u001B[0m \u001B[0;34m>=\u001B[0m \u001B[0marg_date\u001B[0m\u001B[0;34m]\u001B[0m\u001B[0;34m\u001B[0m\u001B[0;34m\u001B[0m\u001B[0m\n\u001B[1;32m      6\u001B[0m         \u001B[0mload\u001B[0m\u001B[0;34m(\u001B[0m\u001B[0mcleaned_df\u001B[0m\u001B[0;34m,\u001B[0m \u001B[0mtrg_bucket\u001B[0m\u001B[0;34m,\u001B[0m \u001B[0mtrg_key\u001B[0m\u001B[0;34m,\u001B[0m \u001B[0mtrg_format\u001B[0m\u001B[0;34m,\u001B[0m \u001B[0mmeta_key\u001B[0m\u001B[0;34m,\u001B[0m \u001B[0mextract_date_list\u001B[0m\u001B[0;34m,\u001B[0m \u001B[0msrc_format\u001B[0m\u001B[0;34m)\u001B[0m\u001B[0;34m\u001B[0m\u001B[0;34m\u001B[0m\u001B[0m\n",
      "\u001B[0;32m~/Desktop/Github/ETL/PolygonETL/venv/lib/python3.9/site-packages/pandas/core/generic.py\u001B[0m in \u001B[0;36m?\u001B[0;34m(self)\u001B[0m\n\u001B[1;32m   1575\u001B[0m     \u001B[0;34m@\u001B[0m\u001B[0mfinal\u001B[0m\u001B[0;34m\u001B[0m\u001B[0;34m\u001B[0m\u001B[0m\n\u001B[1;32m   1576\u001B[0m     \u001B[0;32mdef\u001B[0m \u001B[0m__nonzero__\u001B[0m\u001B[0;34m(\u001B[0m\u001B[0mself\u001B[0m\u001B[0;34m)\u001B[0m \u001B[0;34m->\u001B[0m \u001B[0mNoReturn\u001B[0m\u001B[0;34m:\u001B[0m\u001B[0;34m\u001B[0m\u001B[0;34m\u001B[0m\u001B[0m\n\u001B[0;32m-> 1577\u001B[0;31m         raise ValueError(\n\u001B[0m\u001B[1;32m   1578\u001B[0m             \u001B[0;34mf\"The truth value of a {type(self).__name__} is ambiguous. \"\u001B[0m\u001B[0;34m\u001B[0m\u001B[0;34m\u001B[0m\u001B[0m\n\u001B[1;32m   1579\u001B[0m             \u001B[0;34m\"Use a.empty, a.bool(), a.item(), a.any() or a.all().\"\u001B[0m\u001B[0;34m\u001B[0m\u001B[0;34m\u001B[0m\u001B[0m\n\u001B[1;32m   1580\u001B[0m         )\n",
      "\u001B[0;31mValueError\u001B[0m: The truth value of a DataFrame is ambiguous. Use a.empty, a.bool(), a.item(), a.any() or a.all()."
     ]
    }
   ],
   "source": [
    "# Run\n",
    "main()"
   ],
   "metadata": {
    "collapsed": false,
    "ExecuteTime": {
     "end_time": "2024-05-06T21:15:43.680941Z",
     "start_time": "2024-05-06T21:15:42.719119Z"
    }
   },
   "id": "893b3b62b5a41f69"
  }
 ],
 "metadata": {
  "kernelspec": {
   "display_name": "Python 3",
   "language": "python",
   "name": "python3"
  },
  "language_info": {
   "codemirror_mode": {
    "name": "ipython",
    "version": 2
   },
   "file_extension": ".py",
   "mimetype": "text/x-python",
   "name": "python",
   "nbconvert_exporter": "python",
   "pygments_lexer": "ipython2",
   "version": "2.7.6"
  }
 },
 "nbformat": 4,
 "nbformat_minor": 5
}
