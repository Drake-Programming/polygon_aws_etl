{
 "cells": [
  {
   "cell_type": "code",
   "execution_count": 1,
   "id": "initial_id",
   "metadata": {
    "collapsed": true,
    "ExecuteTime": {
     "end_time": "2024-06-19T18:11:44.908454Z",
     "start_time": "2024-06-19T18:11:44.367547Z"
    }
   },
   "outputs": [],
   "source": [
    "import pandas as pd\n",
    "import numpy as np\n",
    "from datetime import datetime, timedelta\n",
    "import boto3\n",
    "from io import StringIO, BytesIO\n",
    "import os\n",
    "from dotenv import load_dotenv, find_dotenv\n",
    "from etl.polygon.source_polygon import SourcePolygonConnector\n",
    "from etl.etl_transformations.etl import ETL"
   ]
  },
  {
   "cell_type": "code",
   "execution_count": 4,
   "outputs": [
    {
     "data": {
      "text/plain": "{'AAPL': <generator object BaseClient._paginate_iter at 0x123a3f820>,\n 'TSLA': <generator object BaseClient._paginate_iter at 0x123a3fdd0>}"
     },
     "execution_count": 4,
     "metadata": {},
     "output_type": "execute_result"
    }
   ],
   "source": [],
   "metadata": {
    "collapsed": false,
    "ExecuteTime": {
     "end_time": "2024-06-19T18:11:56.067904Z",
     "start_time": "2024-06-19T18:11:56.043973Z"
    }
   },
   "id": "558655716527f2a4"
  },
  {
   "cell_type": "markdown",
   "source": [],
   "metadata": {
    "collapsed": false
   },
   "id": "f1757505d578063c"
  },
  {
   "cell_type": "code",
   "execution_count": 2,
   "outputs": [],
   "source": [
    "Polygon = SourcePolygonConnector('polygon_api_key')"
   ],
   "metadata": {
    "collapsed": false,
    "ExecuteTime": {
     "end_time": "2024-06-19T18:11:47.489241Z",
     "start_time": "2024-06-19T18:11:47.466509Z"
    }
   },
   "id": "85499d580f8c84f0"
  },
  {
   "cell_type": "code",
   "execution_count": 3,
   "outputs": [],
   "source": [
    "stocks = Polygon.get_stocks('2024-06-05', ['AAPL', 'TSLA'])"
   ],
   "metadata": {
    "collapsed": false,
    "ExecuteTime": {
     "end_time": "2024-06-19T18:11:49.823898Z",
     "start_time": "2024-06-19T18:11:49.813811Z"
    }
   },
   "id": "5220ae5c8f7ced85"
  },
  {
   "cell_type": "code",
   "execution_count": 4,
   "outputs": [
    {
     "data": {
      "text/plain": "       open      high       low     close      volume      vwap  \\\n0   194.990  195.2000  194.5800  194.8300    118043.0  194.8244   \n1   194.790  196.9000  194.6678  196.0200  21936159.0  195.6760   \n2   196.010  196.7000  195.5900  195.9000  22511239.0  196.0724   \n3   195.870  195.8700  195.3400  195.5300   2219173.0  195.8006   \n4   195.650  196.0400  195.6300  195.6700    124816.0  195.8682   \n5   195.900  196.5000  195.1800  195.5300  15596150.0  195.8139   \n6   195.535  196.0700  194.1700  194.4800  17949307.0  195.2266   \n7   194.480  194.7600  193.9400  194.5900    970136.0  194.4250   \n8   195.020  195.1200  194.7000  195.1200     79842.0  194.9218   \n9   195.000  195.9700  193.4500  195.8500  20941938.0  195.1895   \n10  195.860  196.9400  195.5800  196.9000  25317074.0  196.2372   \n11  196.890  196.9700  196.5300  196.9000   1326132.0  196.8727   \n12  175.480  176.2000  175.2000  176.0500    271243.0  175.6641   \n13  175.450  176.2300  172.1300  175.6800  33710032.0  173.9424   \n14  175.658  176.1500  174.5200  174.9600  19955907.0  175.2139   \n15  175.000  175.7500  174.8000  174.9799    709406.0  174.9541   \n16  174.830  174.9700  174.0000  174.3600    231090.0  174.4100   \n17  174.375  176.9200  172.7300  175.4060  29530117.0  174.2676   \n18  175.400  179.7300  175.0100  177.9400  37042763.0  177.8748   \n19  177.940  178.1799  177.5500  177.6500    598922.0  177.8558   \n20  177.780  178.0000  177.1300  177.1800    172921.0  177.5173   \n21  177.530  179.5000  175.4000  178.6500  29694783.0  178.0872   \n22  178.640  178.7800  175.5800  177.4000  23329632.0  177.2401   \n23  177.480  177.5400  176.9500  177.4400    538200.0  177.4117   \n\n        timestamp  transactions   otc ticker  \n0   1717574400000          2422  None   AAPL  \n1   1717588800000        376029  None   AAPL  \n2   1717603200000        261315  None   AAPL  \n3   1717617600000          5918  None   AAPL  \n4   1717660800000          2708  None   AAPL  \n5   1717675200000        316837  None   AAPL  \n6   1717689600000        221527  None   AAPL  \n7   1717704000000          5776  None   AAPL  \n8   1717747200000          1617  None   AAPL  \n9   1717761600000        218534  None   AAPL  \n10  1717776000000        278307  None   AAPL  \n11  1717790400000          5221  None   AAPL  \n12  1717574400000          6574  None   TSLA  \n13  1717588800000        501704  None   TSLA  \n14  1717603200000        223366  None   TSLA  \n15  1717617600000          7947  None   TSLA  \n16  1717660800000          6708  None   TSLA  \n17  1717675200000        459640  None   TSLA  \n18  1717689600000        377907  None   TSLA  \n19  1717704000000          9339  None   TSLA  \n20  1717747200000          7301  None   TSLA  \n21  1717761600000        315625  None   TSLA  \n22  1717776000000        251354  None   TSLA  \n23  1717790400000          5156  None   TSLA  ",
      "text/html": "<div>\n<style scoped>\n    .dataframe tbody tr th:only-of-type {\n        vertical-align: middle;\n    }\n\n    .dataframe tbody tr th {\n        vertical-align: top;\n    }\n\n    .dataframe thead th {\n        text-align: right;\n    }\n</style>\n<table border=\"1\" class=\"dataframe\">\n  <thead>\n    <tr style=\"text-align: right;\">\n      <th></th>\n      <th>open</th>\n      <th>high</th>\n      <th>low</th>\n      <th>close</th>\n      <th>volume</th>\n      <th>vwap</th>\n      <th>timestamp</th>\n      <th>transactions</th>\n      <th>otc</th>\n      <th>ticker</th>\n    </tr>\n  </thead>\n  <tbody>\n    <tr>\n      <th>0</th>\n      <td>194.990</td>\n      <td>195.2000</td>\n      <td>194.5800</td>\n      <td>194.8300</td>\n      <td>118043.0</td>\n      <td>194.8244</td>\n      <td>1717574400000</td>\n      <td>2422</td>\n      <td>None</td>\n      <td>AAPL</td>\n    </tr>\n    <tr>\n      <th>1</th>\n      <td>194.790</td>\n      <td>196.9000</td>\n      <td>194.6678</td>\n      <td>196.0200</td>\n      <td>21936159.0</td>\n      <td>195.6760</td>\n      <td>1717588800000</td>\n      <td>376029</td>\n      <td>None</td>\n      <td>AAPL</td>\n    </tr>\n    <tr>\n      <th>2</th>\n      <td>196.010</td>\n      <td>196.7000</td>\n      <td>195.5900</td>\n      <td>195.9000</td>\n      <td>22511239.0</td>\n      <td>196.0724</td>\n      <td>1717603200000</td>\n      <td>261315</td>\n      <td>None</td>\n      <td>AAPL</td>\n    </tr>\n    <tr>\n      <th>3</th>\n      <td>195.870</td>\n      <td>195.8700</td>\n      <td>195.3400</td>\n      <td>195.5300</td>\n      <td>2219173.0</td>\n      <td>195.8006</td>\n      <td>1717617600000</td>\n      <td>5918</td>\n      <td>None</td>\n      <td>AAPL</td>\n    </tr>\n    <tr>\n      <th>4</th>\n      <td>195.650</td>\n      <td>196.0400</td>\n      <td>195.6300</td>\n      <td>195.6700</td>\n      <td>124816.0</td>\n      <td>195.8682</td>\n      <td>1717660800000</td>\n      <td>2708</td>\n      <td>None</td>\n      <td>AAPL</td>\n    </tr>\n    <tr>\n      <th>5</th>\n      <td>195.900</td>\n      <td>196.5000</td>\n      <td>195.1800</td>\n      <td>195.5300</td>\n      <td>15596150.0</td>\n      <td>195.8139</td>\n      <td>1717675200000</td>\n      <td>316837</td>\n      <td>None</td>\n      <td>AAPL</td>\n    </tr>\n    <tr>\n      <th>6</th>\n      <td>195.535</td>\n      <td>196.0700</td>\n      <td>194.1700</td>\n      <td>194.4800</td>\n      <td>17949307.0</td>\n      <td>195.2266</td>\n      <td>1717689600000</td>\n      <td>221527</td>\n      <td>None</td>\n      <td>AAPL</td>\n    </tr>\n    <tr>\n      <th>7</th>\n      <td>194.480</td>\n      <td>194.7600</td>\n      <td>193.9400</td>\n      <td>194.5900</td>\n      <td>970136.0</td>\n      <td>194.4250</td>\n      <td>1717704000000</td>\n      <td>5776</td>\n      <td>None</td>\n      <td>AAPL</td>\n    </tr>\n    <tr>\n      <th>8</th>\n      <td>195.020</td>\n      <td>195.1200</td>\n      <td>194.7000</td>\n      <td>195.1200</td>\n      <td>79842.0</td>\n      <td>194.9218</td>\n      <td>1717747200000</td>\n      <td>1617</td>\n      <td>None</td>\n      <td>AAPL</td>\n    </tr>\n    <tr>\n      <th>9</th>\n      <td>195.000</td>\n      <td>195.9700</td>\n      <td>193.4500</td>\n      <td>195.8500</td>\n      <td>20941938.0</td>\n      <td>195.1895</td>\n      <td>1717761600000</td>\n      <td>218534</td>\n      <td>None</td>\n      <td>AAPL</td>\n    </tr>\n    <tr>\n      <th>10</th>\n      <td>195.860</td>\n      <td>196.9400</td>\n      <td>195.5800</td>\n      <td>196.9000</td>\n      <td>25317074.0</td>\n      <td>196.2372</td>\n      <td>1717776000000</td>\n      <td>278307</td>\n      <td>None</td>\n      <td>AAPL</td>\n    </tr>\n    <tr>\n      <th>11</th>\n      <td>196.890</td>\n      <td>196.9700</td>\n      <td>196.5300</td>\n      <td>196.9000</td>\n      <td>1326132.0</td>\n      <td>196.8727</td>\n      <td>1717790400000</td>\n      <td>5221</td>\n      <td>None</td>\n      <td>AAPL</td>\n    </tr>\n    <tr>\n      <th>12</th>\n      <td>175.480</td>\n      <td>176.2000</td>\n      <td>175.2000</td>\n      <td>176.0500</td>\n      <td>271243.0</td>\n      <td>175.6641</td>\n      <td>1717574400000</td>\n      <td>6574</td>\n      <td>None</td>\n      <td>TSLA</td>\n    </tr>\n    <tr>\n      <th>13</th>\n      <td>175.450</td>\n      <td>176.2300</td>\n      <td>172.1300</td>\n      <td>175.6800</td>\n      <td>33710032.0</td>\n      <td>173.9424</td>\n      <td>1717588800000</td>\n      <td>501704</td>\n      <td>None</td>\n      <td>TSLA</td>\n    </tr>\n    <tr>\n      <th>14</th>\n      <td>175.658</td>\n      <td>176.1500</td>\n      <td>174.5200</td>\n      <td>174.9600</td>\n      <td>19955907.0</td>\n      <td>175.2139</td>\n      <td>1717603200000</td>\n      <td>223366</td>\n      <td>None</td>\n      <td>TSLA</td>\n    </tr>\n    <tr>\n      <th>15</th>\n      <td>175.000</td>\n      <td>175.7500</td>\n      <td>174.8000</td>\n      <td>174.9799</td>\n      <td>709406.0</td>\n      <td>174.9541</td>\n      <td>1717617600000</td>\n      <td>7947</td>\n      <td>None</td>\n      <td>TSLA</td>\n    </tr>\n    <tr>\n      <th>16</th>\n      <td>174.830</td>\n      <td>174.9700</td>\n      <td>174.0000</td>\n      <td>174.3600</td>\n      <td>231090.0</td>\n      <td>174.4100</td>\n      <td>1717660800000</td>\n      <td>6708</td>\n      <td>None</td>\n      <td>TSLA</td>\n    </tr>\n    <tr>\n      <th>17</th>\n      <td>174.375</td>\n      <td>176.9200</td>\n      <td>172.7300</td>\n      <td>175.4060</td>\n      <td>29530117.0</td>\n      <td>174.2676</td>\n      <td>1717675200000</td>\n      <td>459640</td>\n      <td>None</td>\n      <td>TSLA</td>\n    </tr>\n    <tr>\n      <th>18</th>\n      <td>175.400</td>\n      <td>179.7300</td>\n      <td>175.0100</td>\n      <td>177.9400</td>\n      <td>37042763.0</td>\n      <td>177.8748</td>\n      <td>1717689600000</td>\n      <td>377907</td>\n      <td>None</td>\n      <td>TSLA</td>\n    </tr>\n    <tr>\n      <th>19</th>\n      <td>177.940</td>\n      <td>178.1799</td>\n      <td>177.5500</td>\n      <td>177.6500</td>\n      <td>598922.0</td>\n      <td>177.8558</td>\n      <td>1717704000000</td>\n      <td>9339</td>\n      <td>None</td>\n      <td>TSLA</td>\n    </tr>\n    <tr>\n      <th>20</th>\n      <td>177.780</td>\n      <td>178.0000</td>\n      <td>177.1300</td>\n      <td>177.1800</td>\n      <td>172921.0</td>\n      <td>177.5173</td>\n      <td>1717747200000</td>\n      <td>7301</td>\n      <td>None</td>\n      <td>TSLA</td>\n    </tr>\n    <tr>\n      <th>21</th>\n      <td>177.530</td>\n      <td>179.5000</td>\n      <td>175.4000</td>\n      <td>178.6500</td>\n      <td>29694783.0</td>\n      <td>178.0872</td>\n      <td>1717761600000</td>\n      <td>315625</td>\n      <td>None</td>\n      <td>TSLA</td>\n    </tr>\n    <tr>\n      <th>22</th>\n      <td>178.640</td>\n      <td>178.7800</td>\n      <td>175.5800</td>\n      <td>177.4000</td>\n      <td>23329632.0</td>\n      <td>177.2401</td>\n      <td>1717776000000</td>\n      <td>251354</td>\n      <td>None</td>\n      <td>TSLA</td>\n    </tr>\n    <tr>\n      <th>23</th>\n      <td>177.480</td>\n      <td>177.5400</td>\n      <td>176.9500</td>\n      <td>177.4400</td>\n      <td>538200.0</td>\n      <td>177.4117</td>\n      <td>1717790400000</td>\n      <td>5156</td>\n      <td>None</td>\n      <td>TSLA</td>\n    </tr>\n  </tbody>\n</table>\n</div>"
     },
     "execution_count": 4,
     "metadata": {},
     "output_type": "execute_result"
    }
   ],
   "source": [
    "stocks"
   ],
   "metadata": {
    "collapsed": false,
    "ExecuteTime": {
     "end_time": "2024-06-10T18:57:11.922317Z",
     "start_time": "2024-06-10T18:57:11.904493Z"
    }
   },
   "id": "eb03b510f2b4b45d"
  },
  {
   "cell_type": "code",
   "execution_count": 20,
   "outputs": [
    {
     "data": {
      "text/plain": "{'AAPL': <generator object BaseClient._paginate_iter at 0x123a3f820>,\n 'TSLA': <generator object BaseClient._paginate_iter at 0x123a3fdd0>}"
     },
     "execution_count": 20,
     "metadata": {},
     "output_type": "execute_result"
    }
   ],
   "source": [
    "stocks\n",
    "#  dict[str:iter[tuple]]"
   ],
   "metadata": {
    "collapsed": false,
    "ExecuteTime": {
     "end_time": "2024-06-20T01:10:09.779061Z",
     "start_time": "2024-06-20T01:10:09.771516Z"
    }
   },
   "id": "58f59f08c5888ebd"
  },
  {
   "cell_type": "code",
   "execution_count": 21,
   "outputs": [
    {
     "data": {
      "text/plain": "Agg(open=195.87, high=195.87, low=195.34, close=195.53, volume=2219173.0, vwap=195.8006, timestamp=1717617600000, transactions=5918, otc=None)"
     },
     "execution_count": 21,
     "metadata": {},
     "output_type": "execute_result"
    }
   ],
   "source": [
    "next(aapl_object)"
   ],
   "metadata": {
    "collapsed": false,
    "ExecuteTime": {
     "end_time": "2024-06-20T01:10:18.956409Z",
     "start_time": "2024-06-20T01:10:18.947606Z"
    }
   },
   "id": "35ff50117477449"
  },
  {
   "cell_type": "markdown",
   "source": [
    "## Getting/Updating/Exporting Meta File"
   ],
   "metadata": {
    "collapsed": false
   },
   "id": "c5ba13c43a9fed38"
  },
  {
   "cell_type": "code",
   "execution_count": 4,
   "outputs": [],
   "source": [
    "def return_date_list(bucket, arg_date, src_format, meta_key):\n",
    "    min_date = datetime.strptime(arg_date, src_format).date() - timedelta(days=1)\n",
    "    today = datetime.today().date()\n",
    "    try:\n",
    "        df_meta = read_csv_to_df(bucket, meta_key)\n",
    "        dates = [(min_date + timedelta(days=x)) for x in range(0, (today-min_date).days + 1)]\n",
    "        src_dates = set(pd.to_datetime(df_meta['source_date']).dt.date)\n",
    "        dates_missing = set(dates[1:]) - src_dates\n",
    "        if dates_missing:\n",
    "            min_date = min(set(dates[1:]) - src_dates) - timedelta(days=1)\n",
    "            return_dates = [date.strftime(src_format) for date in dates if date >= min_date]\n",
    "            return_min_date = arg_date\n",
    "        else:\n",
    "            return_dates = []\n",
    "            return_min_date = datetime(2200, 1, 1).date()\n",
    "    except bucket.session.client('s3').execptions.NoSuchKey:\n",
    "        return_dates = [(min_date + timedelta(days=x)).strftime(src_format) for x in range(0, (today-min_date).days + 1)]\n",
    "        return_min_date = (min_date + timedelta(days=1)).strftime(src_format)\n",
    "    return return_min_date, return_dates"
   ],
   "metadata": {
    "collapsed": false,
    "ExecuteTime": {
     "end_time": "2024-05-28T21:42:35.542720Z",
     "start_time": "2024-05-28T21:42:35.523346Z"
    }
   },
   "id": "1f2b3128655f9508"
  },
  {
   "cell_type": "code",
   "execution_count": 5,
   "outputs": [],
   "source": [
    "def read_csv_to_df(bucket, key, decoding = 'utf-8', sep = ','):\n",
    "    csv_obj = bucket.Object(key=key).get().get('Body').read().decode(decoding)\n",
    "    data = StringIO(csv_obj)\n",
    "    df = pd.read_csv(data, delimiter=sep)\n",
    "    return df"
   ],
   "metadata": {
    "collapsed": false,
    "ExecuteTime": {
     "end_time": "2024-05-28T21:42:36.262568Z",
     "start_time": "2024-05-28T21:42:36.256067Z"
    }
   },
   "id": "b699b7c69e86dcbc"
  },
  {
   "cell_type": "code",
   "execution_count": 6,
   "outputs": [],
   "source": [
    "def df_to_s3_csv(df, bucket, key):\n",
    "    out_buffer = StringIO()\n",
    "    df.to_csv(out_buffer, index=False)\n",
    "    bucket.put_object(Body=out_buffer.getvalue(), Key=key)\n",
    "    return True"
   ],
   "metadata": {
    "collapsed": false,
    "ExecuteTime": {
     "end_time": "2024-05-28T21:42:36.738233Z",
     "start_time": "2024-05-28T21:42:36.735261Z"
    }
   },
   "id": "9c7a26794278fcd2"
  },
  {
   "cell_type": "code",
   "execution_count": 7,
   "outputs": [],
   "source": [
    "def update_meta_file(bucket, meta_key, date_list):\n",
    "    df_new = pd.DataFrame(columns=['source_date', 'datetime_of_processing'])\n",
    "    df_new['source_date'] = date_list\n",
    "    df_new['datetime_of_processing'] = datetime.today().strftime('%Y-%m-%d %H:%M:%S')\n",
    "    df_old = read_csv_to_df(bucket, meta_key)\n",
    "    df_all = pd.concat([df_old, df_new])\n",
    "    df_to_s3_csv(df_all, bucket, meta_key)\n",
    "    return True"
   ],
   "metadata": {
    "collapsed": false,
    "ExecuteTime": {
     "end_time": "2024-05-28T21:42:37.913042Z",
     "start_time": "2024-05-28T21:42:37.906673Z"
    }
   },
   "id": "dd90f7ee3e6a4f91"
  },
  {
   "cell_type": "markdown",
   "source": [
    "## Extract"
   ],
   "metadata": {
    "collapsed": false
   },
   "id": "fa5dc8af4d915e0b"
  },
  {
   "cell_type": "code",
   "execution_count": 8,
   "outputs": [],
   "source": [
    "def get_stocks(tickers, start_date, end_date, client, timespan = 'hour'):\n",
    "    stock_objects = {}\n",
    "    for stock in tickers:\n",
    "        stock_objects[stock] = client.list_aggs(ticker=stock, multiplier=4, timespan=timespan,\n",
    "                                                        from_=start_date, to=end_date, limit=50000)\n",
    "    return stock_objects"
   ],
   "metadata": {
    "collapsed": false,
    "ExecuteTime": {
     "end_time": "2024-05-28T21:42:39.379138Z",
     "start_time": "2024-05-28T21:42:39.375108Z"
    }
   },
   "id": "fc7d176db382d328"
  },
  {
   "cell_type": "code",
   "execution_count": 9,
   "outputs": [
    {
     "ename": "TypeError",
     "evalue": "get_stocks() missing 1 required positional argument: 'client'",
     "output_type": "error",
     "traceback": [
      "\u001B[0;31m---------------------------------------------------------------------------\u001B[0m",
      "\u001B[0;31mTypeError\u001B[0m                                 Traceback (most recent call last)",
      "Cell \u001B[0;32mIn[9], line 1\u001B[0m\n\u001B[0;32m----> 1\u001B[0m stock \u001B[38;5;241m=\u001B[39m \u001B[43mget_stocks\u001B[49m\u001B[43m(\u001B[49m\u001B[38;5;124;43m'\u001B[39;49m\u001B[38;5;124;43m*\u001B[39;49m\u001B[38;5;124;43m'\u001B[39;49m\u001B[43m,\u001B[49m\u001B[43m \u001B[49m\u001B[38;5;124;43m'\u001B[39;49m\u001B[38;5;124;43m2024-05-01\u001B[39;49m\u001B[38;5;124;43m'\u001B[39;49m\u001B[43m,\u001B[49m\u001B[43m \u001B[49m\u001B[38;5;124;43m'\u001B[39;49m\u001B[38;5;124;43m2024-05-03\u001B[39;49m\u001B[38;5;124;43m'\u001B[39;49m\u001B[43m,\u001B[49m\u001B[43m \u001B[49m\u001B[43m)\u001B[49m\n",
      "\u001B[0;31mTypeError\u001B[0m: get_stocks() missing 1 required positional argument: 'client'"
     ]
    }
   ],
   "source": [
    "stock = get_stocks('*', '2024-05-01', '2024-05-03', )"
   ],
   "metadata": {
    "collapsed": false,
    "ExecuteTime": {
     "end_time": "2024-05-28T21:42:40.114693Z",
     "start_time": "2024-05-28T21:42:40.103435Z"
    }
   },
   "id": "a5084b715b2b993b"
  },
  {
   "cell_type": "code",
   "execution_count": 7,
   "outputs": [],
   "source": [
    "def dict_to_df(dict):\n",
    "    dataframes = []\n",
    "    for ticker, data in dict.items():\n",
    "        df = pd.DataFrame(data).assign(ticker=ticker)\n",
    "        dataframes.append(df)\n",
    "    return pd.concat(dataframes, ignore_index=True)"
   ],
   "metadata": {
    "collapsed": false,
    "ExecuteTime": {
     "end_time": "2024-05-06T21:15:42.687529Z",
     "start_time": "2024-05-06T21:15:42.683529Z"
    }
   },
   "id": "ee402a94548d395b"
  },
  {
   "cell_type": "code",
   "execution_count": 8,
   "outputs": [],
   "source": [
    "def extract(tickers, client, date_list):\n",
    "    if date_list:\n",
    "        dictStocks = get_stocks(tickers, date_list[0], date_list[-1], client)\n",
    "        df = dict_to_df(dictStocks)\n",
    "        return df"
   ],
   "metadata": {
    "collapsed": false,
    "ExecuteTime": {
     "end_time": "2024-05-06T21:15:42.690144Z",
     "start_time": "2024-05-06T21:15:42.686356Z"
    }
   },
   "id": "6b1018e6c34938e1"
  },
  {
   "cell_type": "markdown",
   "source": [
    "## Transform"
   ],
   "metadata": {
    "collapsed": false
   },
   "id": "62cb31087e742ac0"
  },
  {
   "cell_type": "code",
   "execution_count": 9,
   "outputs": [],
   "source": [
    "def timestamp_to_datetime(df):\n",
    "    if 'timestamp' in df.columns:\n",
    "        df['date_time'] = pd.to_datetime(df['timestamp'], unit='ms')\n",
    "        return df\n",
    "    else: \n",
    "        print('No timestamp column')"
   ],
   "metadata": {
    "collapsed": false,
    "ExecuteTime": {
     "end_time": "2024-05-06T21:15:42.694861Z",
     "start_time": "2024-05-06T21:15:42.689472Z"
    }
   },
   "id": "ff67dea9a12f7d84"
  },
  {
   "cell_type": "code",
   "execution_count": 10,
   "outputs": [],
   "source": [
    "def drop_columns(df, columns):\n",
    "    col = columns\n",
    "    return df[col]"
   ],
   "metadata": {
    "collapsed": false,
    "ExecuteTime": {
     "end_time": "2024-05-06T21:15:42.694903Z",
     "start_time": "2024-05-06T21:15:42.691527Z"
    }
   },
   "id": "15ba86f37ce2bdcd"
  },
  {
   "cell_type": "code",
   "execution_count": 11,
   "outputs": [],
   "source": [
    "def clean_df(df):\n",
    "    df = df.dropna()\n",
    "    df = df.drop_duplicates()\n",
    "    df['date_time'] = pd.to_datetime(df['date_time'])\n",
    "    df = df.astype({'open': 'float', 'close': 'float', 'high': 'float', 'low': 'float', 'transactions': 'int'})\n",
    "    return df"
   ],
   "metadata": {
    "collapsed": false,
    "ExecuteTime": {
     "end_time": "2024-05-06T21:15:42.695103Z",
     "start_time": "2024-05-06T21:15:42.693795Z"
    }
   },
   "id": "13dc45dbebab5dc8"
  },
  {
   "cell_type": "code",
   "execution_count": 12,
   "outputs": [],
   "source": [
    "def add_col_returns(df):\n",
    "    df['periodic_return'] = df.groupby('ticker')['close'].pct_change()*100\n",
    "    df.replace([np.inf, -np.inf], np.nan, inplace=True)\n",
    "    df.dropna(subset=['periodic_return'], inplace=True)\n",
    "    return df"
   ],
   "metadata": {
    "collapsed": false,
    "ExecuteTime": {
     "end_time": "2024-05-06T21:15:42.698935Z",
     "start_time": "2024-05-06T21:15:42.696066Z"
    }
   },
   "id": "3b820d1354129a00"
  },
  {
   "cell_type": "code",
   "execution_count": 13,
   "outputs": [],
   "source": [
    "def make_weekly_aggregated(df):\n",
    "    df.set_index('date_time', inplace=True)\n",
    "    weekly_aggregated = df.groupby('ticker').resample('W-MON').agg({\n",
    "        'open': 'first',\n",
    "        'close': 'last',\n",
    "        'high': 'max',\n",
    "        'low': 'min',\n",
    "        'transactions': 'sum',\n",
    "        'periodic_return': 'std'  # This calculates the standard deviation of the 4-hourly returns for weekly volatility\n",
    "    }).rename(columns={'periodic_return': 'pct_volatility'}).reset_index()\n",
    "    return weekly_aggregated"
   ],
   "metadata": {
    "collapsed": false,
    "ExecuteTime": {
     "end_time": "2024-05-06T21:15:42.701808Z",
     "start_time": "2024-05-06T21:15:42.699251Z"
    }
   },
   "id": "27e29807a531866c"
  },
  {
   "cell_type": "code",
   "execution_count": 14,
   "outputs": [],
   "source": [
    "def add_col_change(weekly_aggregated):\n",
    "    weekly_aggregated['weekly_pct_change'] = weekly_aggregated.groupby('ticker')['close'].pct_change()*100\n",
    "    weekly_aggregated['weekly_pct_change'].fillna(0, inplace=True)\n",
    "    return weekly_aggregated"
   ],
   "metadata": {
    "collapsed": false,
    "ExecuteTime": {
     "end_time": "2024-05-06T21:15:42.705775Z",
     "start_time": "2024-05-06T21:15:42.703899Z"
    }
   },
   "id": "85c76ea73aa7274c"
  },
  {
   "cell_type": "code",
   "execution_count": 15,
   "outputs": [],
   "source": [
    "def transform(df, columns):\n",
    "    dt_cng_df = timestamp_to_datetime(df)\n",
    "    dp_col_df = drop_columns(dt_cng_df, columns)\n",
    "    cleaned_df = clean_df(dp_col_df)\n",
    "    rtn_add_df = add_col_returns(cleaned_df)\n",
    "    weekly_aggregated = make_weekly_aggregated(rtn_add_df)\n",
    "    return weekly_aggregated\n",
    "    "
   ],
   "metadata": {
    "collapsed": false,
    "ExecuteTime": {
     "end_time": "2024-05-06T21:15:42.708451Z",
     "start_time": "2024-05-06T21:15:42.706473Z"
    }
   },
   "id": "70c19b97c4f06c0"
  },
  {
   "cell_type": "markdown",
   "source": [
    "## Load"
   ],
   "metadata": {
    "collapsed": false
   },
   "id": "1135107734d2a0c6"
  },
  {
   "cell_type": "code",
   "execution_count": 16,
   "outputs": [],
   "source": [
    "def df_to_s3(weekly_aggregated, bucket_target, key):\n",
    "    out_buffer = BytesIO()\n",
    "    weekly_aggregated.to_parquet(out_buffer, index=False)\n",
    "    bucket_target.put_object(Body=out_buffer.getvalue(), Key=key)\n",
    "    return True"
   ],
   "metadata": {
    "collapsed": false,
    "ExecuteTime": {
     "end_time": "2024-05-06T21:15:42.710950Z",
     "start_time": "2024-05-06T21:15:42.709071Z"
    }
   },
   "id": "f6ae9d95557bf14e"
  },
  {
   "cell_type": "code",
   "execution_count": 17,
   "outputs": [],
   "source": [
    "def load(df, bucket, trg_key, trg_format, meta_key, date_list, src_format):\n",
    "    key = trg_key + datetime.today().strftime(src_format) + trg_format\n",
    "    df_to_s3(df, bucket, key)\n",
    "    update_meta_file(bucket, meta_key, date_list)"
   ],
   "metadata": {
    "collapsed": false,
    "ExecuteTime": {
     "end_time": "2024-05-06T21:15:42.713428Z",
     "start_time": "2024-05-06T21:15:42.711242Z"
    }
   },
   "id": "a1d87afe5f6eb524"
  },
  {
   "cell_type": "code",
   "execution_count": 18,
   "outputs": [],
   "source": [
    "def run_etl(tickers, client, trg_bucket, date_list, columns, arg_date, trg_key, src_format, trg_format, meta_key):\n",
    "    raw_df = extract(tickers, client, date_list)\n",
    "    if raw_df:\n",
    "        cleaned_df = transform(raw_df, columns)\n",
    "        extract_date_list = [date for date in date_list if date >= arg_date]\n",
    "        load(cleaned_df, trg_bucket, trg_key, trg_format, meta_key, extract_date_list, src_format)"
   ],
   "metadata": {
    "collapsed": false,
    "ExecuteTime": {
     "end_time": "2024-05-06T21:15:42.719840Z",
     "start_time": "2024-05-06T21:15:42.714045Z"
    }
   },
   "id": "8e7835fa72be910e"
  },
  {
   "cell_type": "code",
   "execution_count": 19,
   "outputs": [],
   "source": [
    "def main():\n",
    "    tickers = ['AAPL', 'TSLA']\n",
    "    client = RESTClient(POLYGON_API_KEY)\n",
    "    arg_date = '2024-04-14'\n",
    "    src_format = \"%Y-%m-%d\"\n",
    "    trg_format = '.parquet'\n",
    "    trg_key = 'polygon_weekly_report_'\n",
    "    columns = ['ticker', 'open', 'close', 'low', 'high', 'transactions', 'date_time']\n",
    "    \n",
    "    \n",
    "    # Init\n",
    "    s3 = boto3.resource('s3')\n",
    "    meta_key = 'meta_file.csv'\n",
    "    bucket_target = s3.Bucket('adaptivesharks-test-etl-target')\n",
    "    \n",
    "    # Run Application\n",
    "    extract_date, date_list = return_date_list(bucket_target, arg_date, src_format, meta_key)\n",
    "    run_etl(tickers, client, bucket_target, date_list, columns, extract_date, trg_key, src_format, trg_format, meta_key)\n",
    "    "
   ],
   "metadata": {
    "collapsed": false,
    "ExecuteTime": {
     "end_time": "2024-05-06T21:15:42.720007Z",
     "start_time": "2024-05-06T21:15:42.717276Z"
    }
   },
   "id": "afea1774953adb43"
  },
  {
   "cell_type": "code",
   "execution_count": 20,
   "outputs": [
    {
     "ename": "ValueError",
     "evalue": "The truth value of a DataFrame is ambiguous. Use a.empty, a.bool(), a.item(), a.any() or a.all().",
     "output_type": "error",
     "traceback": [
      "\u001B[0;31m---------------------------------------------------------------------------\u001B[0m",
      "\u001B[0;31mValueError\u001B[0m                                Traceback (most recent call last)",
      "\u001B[0;32m/var/folders/jn/ts9j2knj3k7_zc7zd6rz3p240000gn/T/ipykernel_90077/3459984469.py\u001B[0m in \u001B[0;36m?\u001B[0;34m()\u001B[0m\n\u001B[0;32m----> 2\u001B[0;31m \u001B[0;31m# Run\u001B[0m\u001B[0;34m\u001B[0m\u001B[0;34m\u001B[0m\u001B[0;34m\u001B[0m\u001B[0m\n\u001B[0m\u001B[1;32m      3\u001B[0m \u001B[0mmain\u001B[0m\u001B[0;34m(\u001B[0m\u001B[0;34m)\u001B[0m\u001B[0;34m\u001B[0m\u001B[0;34m\u001B[0m\u001B[0m\n",
      "\u001B[0;32m/var/folders/jn/ts9j2knj3k7_zc7zd6rz3p240000gn/T/ipykernel_90077/584771309.py\u001B[0m in \u001B[0;36m?\u001B[0;34m()\u001B[0m\n\u001B[1;32m     15\u001B[0m     \u001B[0mbucket_target\u001B[0m \u001B[0;34m=\u001B[0m \u001B[0ms3\u001B[0m\u001B[0;34m.\u001B[0m\u001B[0mBucket\u001B[0m\u001B[0;34m(\u001B[0m\u001B[0;34m'adaptivesharks-test-etl-target'\u001B[0m\u001B[0;34m)\u001B[0m\u001B[0;34m\u001B[0m\u001B[0;34m\u001B[0m\u001B[0m\n\u001B[1;32m     16\u001B[0m \u001B[0;34m\u001B[0m\u001B[0m\n\u001B[1;32m     17\u001B[0m     \u001B[0;31m# Run Application\u001B[0m\u001B[0;34m\u001B[0m\u001B[0;34m\u001B[0m\u001B[0;34m\u001B[0m\u001B[0m\n\u001B[1;32m     18\u001B[0m     \u001B[0mextract_date\u001B[0m\u001B[0;34m,\u001B[0m \u001B[0mdate_list\u001B[0m \u001B[0;34m=\u001B[0m \u001B[0mreturn_date_list\u001B[0m\u001B[0;34m(\u001B[0m\u001B[0mbucket_target\u001B[0m\u001B[0;34m,\u001B[0m \u001B[0marg_date\u001B[0m\u001B[0;34m,\u001B[0m \u001B[0msrc_format\u001B[0m\u001B[0;34m,\u001B[0m \u001B[0mmeta_key\u001B[0m\u001B[0;34m)\u001B[0m\u001B[0;34m\u001B[0m\u001B[0;34m\u001B[0m\u001B[0m\n\u001B[0;32m---> 19\u001B[0;31m     \u001B[0mrun_etl\u001B[0m\u001B[0;34m(\u001B[0m\u001B[0mtickers\u001B[0m\u001B[0;34m,\u001B[0m \u001B[0mclient\u001B[0m\u001B[0;34m,\u001B[0m \u001B[0mbucket_target\u001B[0m\u001B[0;34m,\u001B[0m \u001B[0mdate_list\u001B[0m\u001B[0;34m,\u001B[0m \u001B[0mcolumns\u001B[0m\u001B[0;34m,\u001B[0m \u001B[0mextract_date\u001B[0m\u001B[0;34m,\u001B[0m \u001B[0mtrg_key\u001B[0m\u001B[0;34m,\u001B[0m \u001B[0msrc_format\u001B[0m\u001B[0;34m,\u001B[0m \u001B[0mtrg_format\u001B[0m\u001B[0;34m,\u001B[0m \u001B[0mmeta_key\u001B[0m\u001B[0;34m)\u001B[0m\u001B[0;34m\u001B[0m\u001B[0;34m\u001B[0m\u001B[0m\n\u001B[0m",
      "\u001B[0;32m/var/folders/jn/ts9j2knj3k7_zc7zd6rz3p240000gn/T/ipykernel_90077/3053736101.py\u001B[0m in \u001B[0;36m?\u001B[0;34m(tickers, client, trg_bucket, date_list, columns, arg_date, trg_key, src_format, trg_format, meta_key)\u001B[0m\n\u001B[1;32m      1\u001B[0m \u001B[0;32mdef\u001B[0m \u001B[0mrun_etl\u001B[0m\u001B[0;34m(\u001B[0m\u001B[0mtickers\u001B[0m\u001B[0;34m,\u001B[0m \u001B[0mclient\u001B[0m\u001B[0;34m,\u001B[0m \u001B[0mtrg_bucket\u001B[0m\u001B[0;34m,\u001B[0m \u001B[0mdate_list\u001B[0m\u001B[0;34m,\u001B[0m \u001B[0mcolumns\u001B[0m\u001B[0;34m,\u001B[0m \u001B[0marg_date\u001B[0m\u001B[0;34m,\u001B[0m \u001B[0mtrg_key\u001B[0m\u001B[0;34m,\u001B[0m \u001B[0msrc_format\u001B[0m\u001B[0;34m,\u001B[0m \u001B[0mtrg_format\u001B[0m\u001B[0;34m,\u001B[0m \u001B[0mmeta_key\u001B[0m\u001B[0;34m)\u001B[0m\u001B[0;34m:\u001B[0m\u001B[0;34m\u001B[0m\u001B[0;34m\u001B[0m\u001B[0m\n\u001B[1;32m      2\u001B[0m     \u001B[0mraw_df\u001B[0m \u001B[0;34m=\u001B[0m \u001B[0mextract\u001B[0m\u001B[0;34m(\u001B[0m\u001B[0mtickers\u001B[0m\u001B[0;34m,\u001B[0m \u001B[0mclient\u001B[0m\u001B[0;34m,\u001B[0m \u001B[0mdate_list\u001B[0m\u001B[0;34m)\u001B[0m\u001B[0;34m\u001B[0m\u001B[0;34m\u001B[0m\u001B[0m\n\u001B[0;32m----> 3\u001B[0;31m     \u001B[0;32mif\u001B[0m \u001B[0mraw_df\u001B[0m\u001B[0;34m:\u001B[0m\u001B[0;34m\u001B[0m\u001B[0;34m\u001B[0m\u001B[0m\n\u001B[0m\u001B[1;32m      4\u001B[0m         \u001B[0mcleaned_df\u001B[0m \u001B[0;34m=\u001B[0m \u001B[0mtransform\u001B[0m\u001B[0;34m(\u001B[0m\u001B[0mraw_df\u001B[0m\u001B[0;34m,\u001B[0m \u001B[0mcolumns\u001B[0m\u001B[0;34m)\u001B[0m\u001B[0;34m\u001B[0m\u001B[0;34m\u001B[0m\u001B[0m\n\u001B[1;32m      5\u001B[0m         \u001B[0mextract_date_list\u001B[0m \u001B[0;34m=\u001B[0m \u001B[0;34m[\u001B[0m\u001B[0mdate\u001B[0m \u001B[0;32mfor\u001B[0m \u001B[0mdate\u001B[0m \u001B[0;32min\u001B[0m \u001B[0mdate_list\u001B[0m \u001B[0;32mif\u001B[0m \u001B[0mdate\u001B[0m \u001B[0;34m>=\u001B[0m \u001B[0marg_date\u001B[0m\u001B[0;34m]\u001B[0m\u001B[0;34m\u001B[0m\u001B[0;34m\u001B[0m\u001B[0m\n\u001B[1;32m      6\u001B[0m         \u001B[0mload\u001B[0m\u001B[0;34m(\u001B[0m\u001B[0mcleaned_df\u001B[0m\u001B[0;34m,\u001B[0m \u001B[0mtrg_bucket\u001B[0m\u001B[0;34m,\u001B[0m \u001B[0mtrg_key\u001B[0m\u001B[0;34m,\u001B[0m \u001B[0mtrg_format\u001B[0m\u001B[0;34m,\u001B[0m \u001B[0mmeta_key\u001B[0m\u001B[0;34m,\u001B[0m \u001B[0mextract_date_list\u001B[0m\u001B[0;34m,\u001B[0m \u001B[0msrc_format\u001B[0m\u001B[0;34m)\u001B[0m\u001B[0;34m\u001B[0m\u001B[0;34m\u001B[0m\u001B[0m\n",
      "\u001B[0;32m~/Desktop/Github/ETL/PolygonETL/venv/lib/python3.9/site-packages/pandas/core/generic.py\u001B[0m in \u001B[0;36m?\u001B[0;34m(self)\u001B[0m\n\u001B[1;32m   1575\u001B[0m     \u001B[0;34m@\u001B[0m\u001B[0mfinal\u001B[0m\u001B[0;34m\u001B[0m\u001B[0;34m\u001B[0m\u001B[0m\n\u001B[1;32m   1576\u001B[0m     \u001B[0;32mdef\u001B[0m \u001B[0m__nonzero__\u001B[0m\u001B[0;34m(\u001B[0m\u001B[0mself\u001B[0m\u001B[0;34m)\u001B[0m \u001B[0;34m->\u001B[0m \u001B[0mNoReturn\u001B[0m\u001B[0;34m:\u001B[0m\u001B[0;34m\u001B[0m\u001B[0;34m\u001B[0m\u001B[0m\n\u001B[0;32m-> 1577\u001B[0;31m         raise ValueError(\n\u001B[0m\u001B[1;32m   1578\u001B[0m             \u001B[0;34mf\"The truth value of a {type(self).__name__} is ambiguous. \"\u001B[0m\u001B[0;34m\u001B[0m\u001B[0;34m\u001B[0m\u001B[0m\n\u001B[1;32m   1579\u001B[0m             \u001B[0;34m\"Use a.empty, a.bool(), a.item(), a.any() or a.all().\"\u001B[0m\u001B[0;34m\u001B[0m\u001B[0;34m\u001B[0m\u001B[0m\n\u001B[1;32m   1580\u001B[0m         )\n",
      "\u001B[0;31mValueError\u001B[0m: The truth value of a DataFrame is ambiguous. Use a.empty, a.bool(), a.item(), a.any() or a.all()."
     ]
    }
   ],
   "source": [
    "# Run\n",
    "main()"
   ],
   "metadata": {
    "collapsed": false
   },
   "id": "893b3b62b5a41f69"
  },
  {
   "cell_type": "code",
   "execution_count": null,
   "outputs": [],
   "source": [
    "from etl.polygon.source_polygon import "
   ],
   "metadata": {
    "collapsed": false
   },
   "id": "34df88078ce372cb"
  },
  {
   "cell_type": "code",
   "execution_count": 15,
   "outputs": [],
   "source": [
    "from collections import namedtuple\n",
    "import random\n",
    "\n",
    "# Define the named tuple for stock data\n",
    "StockData = namedtuple('StockData', ['open', 'high', 'low', 'close', 'volume', 'vwap', 'timestamp', 'transactions', 'otc'])\n",
    "\n",
    "def generate_stock_data():\n",
    "    \"\"\"\n",
    "    Generate a single instance of stock data with random values.\n",
    "    \"\"\"\n",
    "    open_price = round(random.uniform(100, 200), 2)\n",
    "    high_price = round(open_price + random.uniform(0, 10), 2)\n",
    "    low_price = round(open_price - random.uniform(0, 10), 2)\n",
    "    close_price = round(random.uniform(low_price, high_price), 2)\n",
    "    volume = random.randint(1000000, 50000000)\n",
    "    vwap = round((high_price + low_price + close_price) / 3, 4)\n",
    "    timestamp = random.randint(1500000000, 1600000000) * 1000  # Random UNIX timestamp in milliseconds\n",
    "    transactions = random.randint(100000, 500000)\n",
    "    otc = None  # Assuming OTC is None for simplicity\n",
    "\n",
    "    return StockData(open=open_price, high=high_price, low=low_price, close=close_price, \n",
    "                     volume=volume, vwap=vwap, timestamp=timestamp, \n",
    "                     transactions=transactions, otc=otc)\n",
    "\n",
    "def stock_data_generator():\n",
    "    \"\"\"\n",
    "    Generator function to create a sequence of stock data.\n",
    "    \"\"\"\n",
    "    while True:\n",
    "        yield generate_stock_data()\n",
    "\n",
    "def get_ticker_stock_data(tickers):\n",
    "    \"\"\"\n",
    "    Given a list of tickers, return a dictionary where the keys are the tickers and the values\n",
    "    are generators of named tuples representing stock data.\n",
    "    \"\"\"\n",
    "    return {ticker: stock_data_generator() for ticker in tickers}\n",
    "\n",
    "# Example usage\n",
    "tickers = ['AAPL', 'GOOG', 'MSFT']\n",
    "stock_data = get_ticker_stock_data(tickers)"
   ],
   "metadata": {
    "collapsed": false,
    "ExecuteTime": {
     "end_time": "2024-06-19T18:48:17.628365Z",
     "start_time": "2024-06-19T18:48:17.621670Z"
    }
   },
   "id": "244bf7eabe4fc7a4"
  },
  {
   "cell_type": "code",
   "execution_count": 17,
   "outputs": [],
   "source": [
    "data = stock_data['AAPL']"
   ],
   "metadata": {
    "collapsed": false,
    "ExecuteTime": {
     "end_time": "2024-06-19T18:48:46.757808Z",
     "start_time": "2024-06-19T18:48:46.747244Z"
    }
   },
   "id": "ad4ce8ba9cbec9ee"
  },
  {
   "cell_type": "code",
   "execution_count": 19,
   "outputs": [
    {
     "data": {
      "text/plain": "StockData(open=189.58, high=196.49, low=179.97, close=194.72, volume=1418250, vwap=190.3933, timestamp=1591120850000, transactions=324346, otc=None)"
     },
     "execution_count": 19,
     "metadata": {},
     "output_type": "execute_result"
    }
   ],
   "source": [
    "next(data)"
   ],
   "metadata": {
    "collapsed": false,
    "ExecuteTime": {
     "end_time": "2024-06-19T18:48:58.371668Z",
     "start_time": "2024-06-19T18:48:58.359292Z"
    }
   },
   "id": "5ebc100968f0bde1"
  },
  {
   "cell_type": "code",
   "execution_count": null,
   "outputs": [],
   "source": [],
   "metadata": {
    "collapsed": false
   },
   "id": "d7373191eec955da"
  }
 ],
 "metadata": {
  "kernelspec": {
   "display_name": "Python 3",
   "language": "python",
   "name": "python3"
  },
  "language_info": {
   "codemirror_mode": {
    "name": "ipython",
    "version": 2
   },
   "file_extension": ".py",
   "mimetype": "text/x-python",
   "name": "python",
   "nbconvert_exporter": "python",
   "pygments_lexer": "ipython2",
   "version": "2.7.6"
  }
 },
 "nbformat": 4,
 "nbformat_minor": 5
}
