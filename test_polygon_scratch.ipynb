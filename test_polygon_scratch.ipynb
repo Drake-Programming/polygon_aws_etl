{
 "cells": [
  {
   "cell_type": "code",
   "execution_count": 1,
   "id": "initial_id",
   "metadata": {
    "collapsed": true,
    "ExecuteTime": {
     "end_time": "2024-06-14T03:05:30.943262Z",
     "start_time": "2024-06-14T03:05:30.508983Z"
    }
   },
   "outputs": [],
   "source": [
    "from tests.s3.test_base_bucket import TestBaseBucketConnector\n",
    "\n",
    "base_conn = TestBaseBucketConnector()\n"
   ]
  },
  {
   "cell_type": "code",
   "execution_count": 2,
   "outputs": [],
   "source": [
    "base_conn.setUp()"
   ],
   "metadata": {
    "collapsed": false,
    "ExecuteTime": {
     "end_time": "2024-06-14T03:05:31.688532Z",
     "start_time": "2024-06-14T03:05:31.521415Z"
    }
   },
   "id": "39a66cc1f4c34d2d"
  },
  {
   "cell_type": "code",
   "execution_count": 3,
   "outputs": [],
   "source": [
    "base_conn.tearDown()"
   ],
   "metadata": {
    "collapsed": false,
    "ExecuteTime": {
     "end_time": "2024-06-14T03:05:49.745485Z",
     "start_time": "2024-06-14T03:05:49.718537Z"
    }
   },
   "id": "d26b7df10725f9b"
  },
  {
   "cell_type": "code",
   "execution_count": null,
   "outputs": [],
   "source": [],
   "metadata": {
    "collapsed": false
   },
   "id": "163bec35c8999198"
  }
 ],
 "metadata": {
  "kernelspec": {
   "display_name": "Python 3",
   "language": "python",
   "name": "python3"
  },
  "language_info": {
   "codemirror_mode": {
    "name": "ipython",
    "version": 2
   },
   "file_extension": ".py",
   "mimetype": "text/x-python",
   "name": "python",
   "nbconvert_exporter": "python",
   "pygments_lexer": "ipython2",
   "version": "2.7.6"
  }
 },
 "nbformat": 4,
 "nbformat_minor": 5
}
